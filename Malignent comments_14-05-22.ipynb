{
 "cells": [
  {
   "cell_type": "code",
   "execution_count": 1,
   "id": "f92282e5",
   "metadata": {},
   "outputs": [],
   "source": [
    "import pandas as pd\n",
    "import numpy as np\n",
    "import matplotlib.pyplot as plt\n",
    "import seaborn as sns\n",
    "import pickle\n",
    "\n",
    "import warnings\n",
    "warnings.filterwarnings('ignore')"
   ]
  },
  {
   "cell_type": "code",
   "execution_count": 2,
   "id": "a63e1b59",
   "metadata": {},
   "outputs": [
    {
     "data": {
      "text/html": [
       "<div>\n",
       "<style scoped>\n",
       "    .dataframe tbody tr th:only-of-type {\n",
       "        vertical-align: middle;\n",
       "    }\n",
       "\n",
       "    .dataframe tbody tr th {\n",
       "        vertical-align: top;\n",
       "    }\n",
       "\n",
       "    .dataframe thead th {\n",
       "        text-align: right;\n",
       "    }\n",
       "</style>\n",
       "<table border=\"1\" class=\"dataframe\">\n",
       "  <thead>\n",
       "    <tr style=\"text-align: right;\">\n",
       "      <th></th>\n",
       "      <th>id</th>\n",
       "      <th>comment_text</th>\n",
       "      <th>malignant</th>\n",
       "      <th>highly_malignant</th>\n",
       "      <th>rude</th>\n",
       "      <th>threat</th>\n",
       "      <th>abuse</th>\n",
       "      <th>loathe</th>\n",
       "    </tr>\n",
       "  </thead>\n",
       "  <tbody>\n",
       "    <tr>\n",
       "      <th>0</th>\n",
       "      <td>0000997932d777bf</td>\n",
       "      <td>Explanation\\nWhy the edits made under my usern...</td>\n",
       "      <td>0</td>\n",
       "      <td>0</td>\n",
       "      <td>0</td>\n",
       "      <td>0</td>\n",
       "      <td>0</td>\n",
       "      <td>0</td>\n",
       "    </tr>\n",
       "    <tr>\n",
       "      <th>1</th>\n",
       "      <td>000103f0d9cfb60f</td>\n",
       "      <td>D'aww! He matches this background colour I'm s...</td>\n",
       "      <td>0</td>\n",
       "      <td>0</td>\n",
       "      <td>0</td>\n",
       "      <td>0</td>\n",
       "      <td>0</td>\n",
       "      <td>0</td>\n",
       "    </tr>\n",
       "    <tr>\n",
       "      <th>2</th>\n",
       "      <td>000113f07ec002fd</td>\n",
       "      <td>Hey man, I'm really not trying to edit war. It...</td>\n",
       "      <td>0</td>\n",
       "      <td>0</td>\n",
       "      <td>0</td>\n",
       "      <td>0</td>\n",
       "      <td>0</td>\n",
       "      <td>0</td>\n",
       "    </tr>\n",
       "    <tr>\n",
       "      <th>3</th>\n",
       "      <td>0001b41b1c6bb37e</td>\n",
       "      <td>\"\\nMore\\nI can't make any real suggestions on ...</td>\n",
       "      <td>0</td>\n",
       "      <td>0</td>\n",
       "      <td>0</td>\n",
       "      <td>0</td>\n",
       "      <td>0</td>\n",
       "      <td>0</td>\n",
       "    </tr>\n",
       "    <tr>\n",
       "      <th>4</th>\n",
       "      <td>0001d958c54c6e35</td>\n",
       "      <td>You, sir, are my hero. Any chance you remember...</td>\n",
       "      <td>0</td>\n",
       "      <td>0</td>\n",
       "      <td>0</td>\n",
       "      <td>0</td>\n",
       "      <td>0</td>\n",
       "      <td>0</td>\n",
       "    </tr>\n",
       "  </tbody>\n",
       "</table>\n",
       "</div>"
      ],
      "text/plain": [
       "                 id                                       comment_text  \\\n",
       "0  0000997932d777bf  Explanation\\nWhy the edits made under my usern...   \n",
       "1  000103f0d9cfb60f  D'aww! He matches this background colour I'm s...   \n",
       "2  000113f07ec002fd  Hey man, I'm really not trying to edit war. It...   \n",
       "3  0001b41b1c6bb37e  \"\\nMore\\nI can't make any real suggestions on ...   \n",
       "4  0001d958c54c6e35  You, sir, are my hero. Any chance you remember...   \n",
       "\n",
       "   malignant  highly_malignant  rude  threat  abuse  loathe  \n",
       "0          0                 0     0       0      0       0  \n",
       "1          0                 0     0       0      0       0  \n",
       "2          0                 0     0       0      0       0  \n",
       "3          0                 0     0       0      0       0  \n",
       "4          0                 0     0       0      0       0  "
      ]
     },
     "execution_count": 2,
     "metadata": {},
     "output_type": "execute_result"
    }
   ],
   "source": [
    "#pd.set_option('display.max_rows', None)\n",
    "df_train=pd.read_csv(\"C:/Users/maryshe/Documents/Data Science_Inernship Worksheets/Malignant-Comments-Classifier-Project--1---1-/Malignant Comments Classifier Project/train.csv\")\n",
    "df_test=pd.read_csv(\"C:/Users/maryshe/Documents/Data Science_Inernship Worksheets/Malignant-Comments-Classifier-Project--1---1-/Malignant Comments Classifier Project/test.csv\")\n",
    "df_train.head()"
   ]
  },
  {
   "cell_type": "code",
   "execution_count": 3,
   "id": "e3b5eae7",
   "metadata": {},
   "outputs": [
    {
     "name": "stdout",
     "output_type": "stream",
     "text": [
      "(153164, 2)\n",
      "(159571, 8)\n"
     ]
    }
   ],
   "source": [
    "print(df_test.shape)\n",
    "print(df_train.shape)"
   ]
  },
  {
   "cell_type": "code",
   "execution_count": 4,
   "id": "75a87659",
   "metadata": {},
   "outputs": [
    {
     "data": {
      "text/html": [
       "<div>\n",
       "<style scoped>\n",
       "    .dataframe tbody tr th:only-of-type {\n",
       "        vertical-align: middle;\n",
       "    }\n",
       "\n",
       "    .dataframe tbody tr th {\n",
       "        vertical-align: top;\n",
       "    }\n",
       "\n",
       "    .dataframe thead th {\n",
       "        text-align: right;\n",
       "    }\n",
       "</style>\n",
       "<table border=\"1\" class=\"dataframe\">\n",
       "  <thead>\n",
       "    <tr style=\"text-align: right;\">\n",
       "      <th></th>\n",
       "      <th>id</th>\n",
       "      <th>comment_text</th>\n",
       "    </tr>\n",
       "  </thead>\n",
       "  <tbody>\n",
       "    <tr>\n",
       "      <th>0</th>\n",
       "      <td>00001cee341fdb12</td>\n",
       "      <td>Yo bitch Ja Rule is more succesful then you'll...</td>\n",
       "    </tr>\n",
       "    <tr>\n",
       "      <th>1</th>\n",
       "      <td>0000247867823ef7</td>\n",
       "      <td>== From RfC == \\n\\n The title is fine as it is...</td>\n",
       "    </tr>\n",
       "    <tr>\n",
       "      <th>2</th>\n",
       "      <td>00013b17ad220c46</td>\n",
       "      <td>\" \\n\\n == Sources == \\n\\n * Zawe Ashton on Lap...</td>\n",
       "    </tr>\n",
       "    <tr>\n",
       "      <th>3</th>\n",
       "      <td>00017563c3f7919a</td>\n",
       "      <td>:If you have a look back at the source, the in...</td>\n",
       "    </tr>\n",
       "    <tr>\n",
       "      <th>4</th>\n",
       "      <td>00017695ad8997eb</td>\n",
       "      <td>I don't anonymously edit articles at all.</td>\n",
       "    </tr>\n",
       "    <tr>\n",
       "      <th>...</th>\n",
       "      <td>...</td>\n",
       "      <td>...</td>\n",
       "    </tr>\n",
       "    <tr>\n",
       "      <th>153159</th>\n",
       "      <td>fffcd0960ee309b5</td>\n",
       "      <td>. \\n i totally agree, this stuff is nothing bu...</td>\n",
       "    </tr>\n",
       "    <tr>\n",
       "      <th>153160</th>\n",
       "      <td>fffd7a9a6eb32c16</td>\n",
       "      <td>== Throw from out field to home plate. == \\n\\n...</td>\n",
       "    </tr>\n",
       "    <tr>\n",
       "      <th>153161</th>\n",
       "      <td>fffda9e8d6fafa9e</td>\n",
       "      <td>\" \\n\\n == Okinotorishima categories == \\n\\n I ...</td>\n",
       "    </tr>\n",
       "    <tr>\n",
       "      <th>153162</th>\n",
       "      <td>fffe8f1340a79fc2</td>\n",
       "      <td>\" \\n\\n == \"\"One of the founding nations of the...</td>\n",
       "    </tr>\n",
       "    <tr>\n",
       "      <th>153163</th>\n",
       "      <td>ffffce3fb183ee80</td>\n",
       "      <td>\" \\n :::Stop already. Your bullshit is not wel...</td>\n",
       "    </tr>\n",
       "  </tbody>\n",
       "</table>\n",
       "<p>153164 rows × 2 columns</p>\n",
       "</div>"
      ],
      "text/plain": [
       "                      id                                       comment_text\n",
       "0       00001cee341fdb12  Yo bitch Ja Rule is more succesful then you'll...\n",
       "1       0000247867823ef7  == From RfC == \\n\\n The title is fine as it is...\n",
       "2       00013b17ad220c46  \" \\n\\n == Sources == \\n\\n * Zawe Ashton on Lap...\n",
       "3       00017563c3f7919a  :If you have a look back at the source, the in...\n",
       "4       00017695ad8997eb          I don't anonymously edit articles at all.\n",
       "...                  ...                                                ...\n",
       "153159  fffcd0960ee309b5  . \\n i totally agree, this stuff is nothing bu...\n",
       "153160  fffd7a9a6eb32c16  == Throw from out field to home plate. == \\n\\n...\n",
       "153161  fffda9e8d6fafa9e  \" \\n\\n == Okinotorishima categories == \\n\\n I ...\n",
       "153162  fffe8f1340a79fc2  \" \\n\\n == \"\"One of the founding nations of the...\n",
       "153163  ffffce3fb183ee80  \" \\n :::Stop already. Your bullshit is not wel...\n",
       "\n",
       "[153164 rows x 2 columns]"
      ]
     },
     "execution_count": 4,
     "metadata": {},
     "output_type": "execute_result"
    }
   ],
   "source": [
    "df_test"
   ]
  },
  {
   "cell_type": "code",
   "execution_count": 5,
   "id": "f7668760",
   "metadata": {},
   "outputs": [],
   "source": [
    "#Merge the 2 dataframes test and train\n",
    "df = df_train.merge(df_test, how='outer')"
   ]
  },
  {
   "cell_type": "code",
   "execution_count": 6,
   "id": "1ac8c609",
   "metadata": {},
   "outputs": [],
   "source": [
    "#drop the id column\n",
    "df_train=df_train.drop(columns='id')\n",
    "df_test=df_test.drop(columns='id')\n",
    "df=df.drop(columns='id')"
   ]
  },
  {
   "cell_type": "code",
   "execution_count": 7,
   "id": "e18a81ea",
   "metadata": {},
   "outputs": [
    {
     "name": "stdout",
     "output_type": "stream",
     "text": [
      "<class 'pandas.core.frame.DataFrame'>\n",
      "RangeIndex: 159571 entries, 0 to 159570\n",
      "Data columns (total 7 columns):\n",
      " #   Column            Non-Null Count   Dtype \n",
      "---  ------            --------------   ----- \n",
      " 0   comment_text      159571 non-null  object\n",
      " 1   malignant         159571 non-null  int64 \n",
      " 2   highly_malignant  159571 non-null  int64 \n",
      " 3   rude              159571 non-null  int64 \n",
      " 4   threat            159571 non-null  int64 \n",
      " 5   abuse             159571 non-null  int64 \n",
      " 6   loathe            159571 non-null  int64 \n",
      "dtypes: int64(6), object(1)\n",
      "memory usage: 8.5+ MB\n"
     ]
    }
   ],
   "source": [
    "df_train.info()"
   ]
  },
  {
   "cell_type": "markdown",
   "id": "c04ef9e8",
   "metadata": {},
   "source": [
    "## EDA"
   ]
  },
  {
   "cell_type": "code",
   "execution_count": 8,
   "id": "44653e72",
   "metadata": {},
   "outputs": [
    {
     "name": "stdout",
     "output_type": "stream",
     "text": [
      "0    144277\n",
      "1     15294\n",
      "Name: malignant, dtype: int64\n",
      "0    157976\n",
      "1      1595\n",
      "Name: highly_malignant, dtype: int64\n",
      "0    151122\n",
      "1      8449\n",
      "Name: rude, dtype: int64\n",
      "0    159093\n",
      "1       478\n",
      "Name: threat, dtype: int64\n",
      "0    151694\n",
      "1      7877\n",
      "Name: abuse, dtype: int64\n",
      "0    158166\n",
      "1      1405\n",
      "Name: loathe, dtype: int64\n"
     ]
    }
   ],
   "source": [
    "#Understanding what is the data available in df\n",
    "int_features = df_train.select_dtypes(include=[np.int64])\n",
    "#frequency of categories\n",
    "for col in int_features:\n",
    "    print(df_train[col].value_counts())\n",
    "    "
   ]
  },
  {
   "cell_type": "code",
   "execution_count": 9,
   "id": "2ac61cf5",
   "metadata": {},
   "outputs": [
    {
     "name": "stdout",
     "output_type": "stream",
     "text": [
      "malignant ratio= 9.584448302009765 %\n",
      "highly_malignant' ratio= 0.9995550569965721 %\n",
      "rude= 5.2948217407925 %\n",
      "threat= 0.2995531769557125 %\n",
      "abuse= 4.936360616904074 %\n",
      "loathe= 0.8804858025581089 %\n"
     ]
    }
   ],
   "source": [
    "##These all look imbalanced data labels!!\n",
    "print(\"malignant ratio=\",len(df_train[df_train['malignant']==1])/len(df_train.malignant)*100,'%')\n",
    "print(\"highly_malignant' ratio=\",len(df_train[df_train['highly_malignant']==1])/len(df_train.highly_malignant)*100,'%')\n",
    "print(\"rude=\",len(df_train[df_train['rude']==1])/len(df_train.rude)*100,'%')\n",
    "print(\"threat=\",len(df_train[df_train['threat']==1])/len(df_train.threat)*100,'%')\n",
    "print(\"abuse=\",len(df_train[df_train['abuse']==1])/len(df_train.abuse)*100,'%')\n",
    "print(\"loathe=\",len(df_train[df_train['loathe']==1])/len(df_train.loathe)*100,'%')"
   ]
  },
  {
   "cell_type": "code",
   "execution_count": 10,
   "id": "d03a6a8f",
   "metadata": {},
   "outputs": [],
   "source": [
    "## Convert all the comments \n",
    "df['comment_text']=df['comment_text'].str.lower()\n",
    "df_train['comment_text']=df_train['comment_text'].str.lower()\n",
    "df_test['comment_text']=df_test['comment_text'].str.lower()"
   ]
  },
  {
   "cell_type": "markdown",
   "id": "53de432f",
   "metadata": {},
   "source": [
    "## Claening the columns"
   ]
  },
  {
   "cell_type": "code",
   "execution_count": 11,
   "id": "b83de84d",
   "metadata": {},
   "outputs": [
    {
     "name": "stdout",
     "output_type": "stream",
     "text": [
      "!\"#$%&'()*+,-./:;<=>?@[\\]^_`{|}~\n"
     ]
    }
   ],
   "source": [
    "## Remove the punctuations\n",
    "\n",
    "import string\n",
    "print(string.punctuation)\n",
    "# Define the function to remove the punctuation\n",
    "def remove_punctuations(text):\n",
    "    for punctuation in string.punctuation:\n",
    "        text = text.replace(punctuation, '')\n",
    "    return text\n",
    "# Apply to the DF series\n",
    "df_train['comment_text']= df_train['comment_text'].apply(remove_punctuations)\n",
    "df_test['comment_text']= df_test['comment_text'].apply(remove_punctuations)\n"
   ]
  },
  {
   "cell_type": "code",
   "execution_count": 12,
   "id": "77bd87cf",
   "metadata": {},
   "outputs": [
    {
     "name": "stdout",
     "output_type": "stream",
     "text": [
      "0         explanation edits username hardcore metallica ...\n",
      "1         daww matches background colour im seemingly st...\n",
      "2         hey man im really trying edit war just guy con...\n",
      "3         make real suggestions improvement wondered sec...\n",
      "4                       sir hero chance remember page thats\n",
      "                                ...                        \n",
      "159566    second time asking view completely contradicts...\n",
      "159567           ashamed horrible thing talk page 128611993\n",
      "159568    spitzer umm theres actual article prostitution...\n",
      "159569      looks like actually speedy version deleted look\n",
      "159570    really dont think understand came idea bad rig...\n",
      "Name: comment_text, Length: 159571, dtype: object\n",
      "0         yo bitch ja rule succesful youll whats hating ...\n",
      "1                                        rfc title fine imo\n",
      "2                             sources zawe ashton lapland —\n",
      "3         look source information updated correct form g...\n",
      "4                            dont anonymously edit articles\n",
      "                                ...                        \n",
      "153159                      totally agree stuff toolongcrap\n",
      "153160    throw field home plate does faster throwing cu...\n",
      "153161    okinotorishima categories changes agree correc...\n",
      "153162    founding nations eu germany law return quite s...\n",
      "153163    stop bullshit welcome im fool think kind expli...\n",
      "Name: comment_text, Length: 153164, dtype: object\n"
     ]
    }
   ],
   "source": [
    "# removing stop words\n",
    "# Import stopwords with scikit-learn\n",
    "from sklearn.feature_extraction import text\n",
    "stop = text.ENGLISH_STOP_WORDS\n",
    "\n",
    "\n",
    "df_train['comment_text'] = df_train['comment_text'].apply(lambda x: ' '.join([word for word in x.split() if word not in (stop)]))\n",
    "print(df_train['comment_text'])\n",
    "df_test['comment_text'] = df_test['comment_text'].apply(lambda x: ' '.join([word for word in x.split() if word not in (stop)]))\n",
    "print(df_test['comment_text'])"
   ]
  },
  {
   "cell_type": "code",
   "execution_count": 13,
   "id": "e43184a7",
   "metadata": {},
   "outputs": [],
   "source": [
    "# Removing all digits\n",
    "df_train['comment_text'] = df_train['comment_text'].str.replace(r'\\d+(\\.\\d+)?', 'numbr')\n",
    "df_test['comment_text'] = df_test['comment_text'].str.replace(r'\\d+(\\.\\d+)?', 'numbr')"
   ]
  },
  {
   "cell_type": "code",
   "execution_count": 14,
   "id": "ec2b7061",
   "metadata": {},
   "outputs": [],
   "source": [
    "#Lemmatization to normalize the words in different form \n",
    "\n",
    "from nltk.stem import WordNetLemmatizer\n",
    "\n",
    "lem=WordNetLemmatizer()\n",
    "df_train['comment_text'] = df_train['comment_text'].apply(lambda x: ' '.join(\n",
    " lem.lemmatize(t) for t in x.split()))"
   ]
  },
  {
   "cell_type": "code",
   "execution_count": 15,
   "id": "9a5d9858",
   "metadata": {},
   "outputs": [
    {
     "data": {
      "text/plain": [
       "0         explanation edits username hardcore metallica ...\n",
       "1         daww match background colour im seemingly stuc...\n",
       "2         hey man im really trying edit war just guy con...\n",
       "3         make real suggestion improvement wondered sect...\n",
       "4                       sir hero chance remember page thats\n",
       "                                ...                        \n",
       "159566    second time asking view completely contradicts...\n",
       "159567               ashamed horrible thing talk page numbr\n",
       "159568    spitzer umm there actual article prostitution ...\n",
       "159569       look like actually speedy version deleted look\n",
       "159570    really dont think understand came idea bad rig...\n",
       "Name: comment_text, Length: 159571, dtype: object"
      ]
     },
     "execution_count": 15,
     "metadata": {},
     "output_type": "execute_result"
    }
   ],
   "source": [
    "#If my Lemmatization worded\n",
    "df_train['comment_text']"
   ]
  },
  {
   "cell_type": "markdown",
   "id": "c3773bff",
   "metadata": {},
   "source": [
    "from nltk import word_tokenize, pos_tag\n",
    "tok_and_tag = lambda x: pos_tag(word_tokenize(x))\n",
    "df_test['comment_text']= df_test['comment_text'].apply(tok_and_tag)"
   ]
  },
  {
   "cell_type": "markdown",
   "id": "31ec42ae",
   "metadata": {},
   "source": [
    "import nltk\n",
    "nltk.download('averaged_perceptron_tagger')"
   ]
  },
  {
   "cell_type": "markdown",
   "id": "82024ad2",
   "metadata": {},
   "source": [
    "df_test['comment_text']\n",
    "\n",
    " #tag_dict = {\"J\": wordnet.ADJ,\n",
    "                #\"N\": wordnet.NOUN,\n",
    "                #\"V\": wordnet.VERB,\n",
    "                #\"R\": wordnet.ADV}"
   ]
  },
  {
   "cell_type": "markdown",
   "id": "fd1b47df",
   "metadata": {},
   "source": [
    "## Visualization of the comments how therer are classified"
   ]
  },
  {
   "cell_type": "markdown",
   "id": "2d27ee00",
   "metadata": {},
   "source": [
    "## redefining variables for visualization purpose\n",
    "df_test_vis=df_test\n",
    "df_train_vis=df_train"
   ]
  },
  {
   "cell_type": "markdown",
   "id": "a76d8806",
   "metadata": {},
   "source": [
    "import nltk\n",
    "nltk.download('averaged_perceptron_tagger')\n",
    "from nltk import word_tokenize, pos_tag\n",
    "tok_and_tag = lambda x: pos_tag(word_tokenize(x))\n",
    "df_train_vis['comment_text']= df_train_vis['comment_text'].apply(tok_and_tag)"
   ]
  },
  {
   "cell_type": "markdown",
   "id": "1c641242",
   "metadata": {},
   "source": [
    "df_train_vis['comment_text'].unique"
   ]
  },
  {
   "cell_type": "code",
   "execution_count": 16,
   "id": "15bede3e",
   "metadata": {},
   "outputs": [],
   "source": [
    "#df_test['comment_text']\n",
    "\n",
    " #tag_dict = {\"J\": wordnet.ADJ,\n",
    "                #\"N\": wordnet.NOUN,\n",
    "                #\"V\": wordnet.VERB,\n",
    "                #\"R\": wordnet.ADV}"
   ]
  },
  {
   "cell_type": "markdown",
   "id": "950eef52",
   "metadata": {},
   "source": [
    "#Getting sense of loud words which are offensive\n",
    "from wordcloud import WordCloud\n",
    "\n",
    "hams = df_test_vis['comment_text']==JJ\n",
    "spam_cloud = WordCloud(width=600,height=400,background_color='black',max_words=50).generate(' '.join(hams))\n",
    "plt.figure(figsize=(10,8),facecolor='k')\n",
    "plt.imshow(spam_cloud)\n",
    "plt.axis('off')\n",
    "plt.tight_layout(pad=0)\n",
    "plt.show()"
   ]
  },
  {
   "cell_type": "markdown",
   "id": "5584c92c",
   "metadata": {},
   "source": [
    "## Model preparing"
   ]
  },
  {
   "cell_type": "code",
   "execution_count": 17,
   "id": "3eb93d1f",
   "metadata": {},
   "outputs": [
    {
     "name": "stdout",
     "output_type": "stream",
     "text": [
      "0    143346\n",
      "1      6360\n",
      "3      4209\n",
      "2      3480\n",
      "4      1760\n",
      "5       385\n",
      "6        31\n",
      "Name: bad, dtype: int64\n"
     ]
    },
    {
     "data": {
      "text/html": [
       "<div>\n",
       "<style scoped>\n",
       "    .dataframe tbody tr th:only-of-type {\n",
       "        vertical-align: middle;\n",
       "    }\n",
       "\n",
       "    .dataframe tbody tr th {\n",
       "        vertical-align: top;\n",
       "    }\n",
       "\n",
       "    .dataframe thead th {\n",
       "        text-align: right;\n",
       "    }\n",
       "</style>\n",
       "<table border=\"1\" class=\"dataframe\">\n",
       "  <thead>\n",
       "    <tr style=\"text-align: right;\">\n",
       "      <th></th>\n",
       "      <th>comment_text</th>\n",
       "      <th>malignant</th>\n",
       "      <th>highly_malignant</th>\n",
       "      <th>rude</th>\n",
       "      <th>threat</th>\n",
       "      <th>abuse</th>\n",
       "      <th>loathe</th>\n",
       "      <th>bad</th>\n",
       "    </tr>\n",
       "  </thead>\n",
       "  <tbody>\n",
       "    <tr>\n",
       "      <th>0</th>\n",
       "      <td>explanation edits username hardcore metallica ...</td>\n",
       "      <td>0</td>\n",
       "      <td>0</td>\n",
       "      <td>0</td>\n",
       "      <td>0</td>\n",
       "      <td>0</td>\n",
       "      <td>0</td>\n",
       "      <td>0</td>\n",
       "    </tr>\n",
       "    <tr>\n",
       "      <th>1</th>\n",
       "      <td>daww match background colour im seemingly stuc...</td>\n",
       "      <td>0</td>\n",
       "      <td>0</td>\n",
       "      <td>0</td>\n",
       "      <td>0</td>\n",
       "      <td>0</td>\n",
       "      <td>0</td>\n",
       "      <td>0</td>\n",
       "    </tr>\n",
       "    <tr>\n",
       "      <th>2</th>\n",
       "      <td>hey man im really trying edit war just guy con...</td>\n",
       "      <td>0</td>\n",
       "      <td>0</td>\n",
       "      <td>0</td>\n",
       "      <td>0</td>\n",
       "      <td>0</td>\n",
       "      <td>0</td>\n",
       "      <td>0</td>\n",
       "    </tr>\n",
       "    <tr>\n",
       "      <th>3</th>\n",
       "      <td>make real suggestion improvement wondered sect...</td>\n",
       "      <td>0</td>\n",
       "      <td>0</td>\n",
       "      <td>0</td>\n",
       "      <td>0</td>\n",
       "      <td>0</td>\n",
       "      <td>0</td>\n",
       "      <td>0</td>\n",
       "    </tr>\n",
       "    <tr>\n",
       "      <th>4</th>\n",
       "      <td>sir hero chance remember page thats</td>\n",
       "      <td>0</td>\n",
       "      <td>0</td>\n",
       "      <td>0</td>\n",
       "      <td>0</td>\n",
       "      <td>0</td>\n",
       "      <td>0</td>\n",
       "      <td>0</td>\n",
       "    </tr>\n",
       "    <tr>\n",
       "      <th>...</th>\n",
       "      <td>...</td>\n",
       "      <td>...</td>\n",
       "      <td>...</td>\n",
       "      <td>...</td>\n",
       "      <td>...</td>\n",
       "      <td>...</td>\n",
       "      <td>...</td>\n",
       "      <td>...</td>\n",
       "    </tr>\n",
       "    <tr>\n",
       "      <th>159566</th>\n",
       "      <td>second time asking view completely contradicts...</td>\n",
       "      <td>0</td>\n",
       "      <td>0</td>\n",
       "      <td>0</td>\n",
       "      <td>0</td>\n",
       "      <td>0</td>\n",
       "      <td>0</td>\n",
       "      <td>0</td>\n",
       "    </tr>\n",
       "    <tr>\n",
       "      <th>159567</th>\n",
       "      <td>ashamed horrible thing talk page numbr</td>\n",
       "      <td>0</td>\n",
       "      <td>0</td>\n",
       "      <td>0</td>\n",
       "      <td>0</td>\n",
       "      <td>0</td>\n",
       "      <td>0</td>\n",
       "      <td>0</td>\n",
       "    </tr>\n",
       "    <tr>\n",
       "      <th>159568</th>\n",
       "      <td>spitzer umm there actual article prostitution ...</td>\n",
       "      <td>0</td>\n",
       "      <td>0</td>\n",
       "      <td>0</td>\n",
       "      <td>0</td>\n",
       "      <td>0</td>\n",
       "      <td>0</td>\n",
       "      <td>0</td>\n",
       "    </tr>\n",
       "    <tr>\n",
       "      <th>159569</th>\n",
       "      <td>look like actually speedy version deleted look</td>\n",
       "      <td>0</td>\n",
       "      <td>0</td>\n",
       "      <td>0</td>\n",
       "      <td>0</td>\n",
       "      <td>0</td>\n",
       "      <td>0</td>\n",
       "      <td>0</td>\n",
       "    </tr>\n",
       "    <tr>\n",
       "      <th>159570</th>\n",
       "      <td>really dont think understand came idea bad rig...</td>\n",
       "      <td>0</td>\n",
       "      <td>0</td>\n",
       "      <td>0</td>\n",
       "      <td>0</td>\n",
       "      <td>0</td>\n",
       "      <td>0</td>\n",
       "      <td>0</td>\n",
       "    </tr>\n",
       "  </tbody>\n",
       "</table>\n",
       "<p>159571 rows × 8 columns</p>\n",
       "</div>"
      ],
      "text/plain": [
       "                                             comment_text  malignant  \\\n",
       "0       explanation edits username hardcore metallica ...          0   \n",
       "1       daww match background colour im seemingly stuc...          0   \n",
       "2       hey man im really trying edit war just guy con...          0   \n",
       "3       make real suggestion improvement wondered sect...          0   \n",
       "4                     sir hero chance remember page thats          0   \n",
       "...                                                   ...        ...   \n",
       "159566  second time asking view completely contradicts...          0   \n",
       "159567             ashamed horrible thing talk page numbr          0   \n",
       "159568  spitzer umm there actual article prostitution ...          0   \n",
       "159569     look like actually speedy version deleted look          0   \n",
       "159570  really dont think understand came idea bad rig...          0   \n",
       "\n",
       "        highly_malignant  rude  threat  abuse  loathe  bad  \n",
       "0                      0     0       0      0       0    0  \n",
       "1                      0     0       0      0       0    0  \n",
       "2                      0     0       0      0       0    0  \n",
       "3                      0     0       0      0       0    0  \n",
       "4                      0     0       0      0       0    0  \n",
       "...                  ...   ...     ...    ...     ...  ...  \n",
       "159566                 0     0       0      0       0    0  \n",
       "159567                 0     0       0      0       0    0  \n",
       "159568                 0     0       0      0       0    0  \n",
       "159569                 0     0       0      0       0    0  \n",
       "159570                 0     0       0      0       0    0  \n",
       "\n",
       "[159571 rows x 8 columns]"
      ]
     },
     "execution_count": 17,
     "metadata": {},
     "output_type": "execute_result"
    }
   ],
   "source": [
    "# All the comments are summed up, If the comment is very bad it would give a higher score or less score\n",
    "cols_target =['malignant','highly_malignant','rude','threat','abuse','loathe']\n",
    "\n",
    "df_train['bad'] =df_train[cols_target].sum(axis =1)\n",
    "print(df_train['bad'].value_counts())\n",
    "df_train"
   ]
  },
  {
   "cell_type": "code",
   "execution_count": 18,
   "id": "a05196ac",
   "metadata": {},
   "outputs": [
    {
     "name": "stdout",
     "output_type": "stream",
     "text": [
      "0    143346\n",
      "1      6360\n",
      "3      4209\n",
      "2      3480\n",
      "4      1760\n",
      "5       385\n",
      "6        31\n",
      "Name: bad, dtype: int64\n"
     ]
    },
    {
     "data": {
      "text/html": [
       "<div>\n",
       "<style scoped>\n",
       "    .dataframe tbody tr th:only-of-type {\n",
       "        vertical-align: middle;\n",
       "    }\n",
       "\n",
       "    .dataframe tbody tr th {\n",
       "        vertical-align: top;\n",
       "    }\n",
       "\n",
       "    .dataframe thead th {\n",
       "        text-align: right;\n",
       "    }\n",
       "</style>\n",
       "<table border=\"1\" class=\"dataframe\">\n",
       "  <thead>\n",
       "    <tr style=\"text-align: right;\">\n",
       "      <th></th>\n",
       "      <th>comment_text</th>\n",
       "      <th>malignant</th>\n",
       "      <th>highly_malignant</th>\n",
       "      <th>rude</th>\n",
       "      <th>threat</th>\n",
       "      <th>abuse</th>\n",
       "      <th>loathe</th>\n",
       "      <th>bad</th>\n",
       "    </tr>\n",
       "  </thead>\n",
       "  <tbody>\n",
       "    <tr>\n",
       "      <th>0</th>\n",
       "      <td>explanation edits username hardcore metallica ...</td>\n",
       "      <td>0</td>\n",
       "      <td>0</td>\n",
       "      <td>0</td>\n",
       "      <td>0</td>\n",
       "      <td>0</td>\n",
       "      <td>0</td>\n",
       "      <td>0</td>\n",
       "    </tr>\n",
       "    <tr>\n",
       "      <th>1</th>\n",
       "      <td>daww match background colour im seemingly stuc...</td>\n",
       "      <td>0</td>\n",
       "      <td>0</td>\n",
       "      <td>0</td>\n",
       "      <td>0</td>\n",
       "      <td>0</td>\n",
       "      <td>0</td>\n",
       "      <td>0</td>\n",
       "    </tr>\n",
       "    <tr>\n",
       "      <th>2</th>\n",
       "      <td>hey man im really trying edit war just guy con...</td>\n",
       "      <td>0</td>\n",
       "      <td>0</td>\n",
       "      <td>0</td>\n",
       "      <td>0</td>\n",
       "      <td>0</td>\n",
       "      <td>0</td>\n",
       "      <td>0</td>\n",
       "    </tr>\n",
       "    <tr>\n",
       "      <th>3</th>\n",
       "      <td>make real suggestion improvement wondered sect...</td>\n",
       "      <td>0</td>\n",
       "      <td>0</td>\n",
       "      <td>0</td>\n",
       "      <td>0</td>\n",
       "      <td>0</td>\n",
       "      <td>0</td>\n",
       "      <td>0</td>\n",
       "    </tr>\n",
       "    <tr>\n",
       "      <th>4</th>\n",
       "      <td>sir hero chance remember page thats</td>\n",
       "      <td>0</td>\n",
       "      <td>0</td>\n",
       "      <td>0</td>\n",
       "      <td>0</td>\n",
       "      <td>0</td>\n",
       "      <td>0</td>\n",
       "      <td>0</td>\n",
       "    </tr>\n",
       "    <tr>\n",
       "      <th>...</th>\n",
       "      <td>...</td>\n",
       "      <td>...</td>\n",
       "      <td>...</td>\n",
       "      <td>...</td>\n",
       "      <td>...</td>\n",
       "      <td>...</td>\n",
       "      <td>...</td>\n",
       "      <td>...</td>\n",
       "    </tr>\n",
       "    <tr>\n",
       "      <th>159566</th>\n",
       "      <td>second time asking view completely contradicts...</td>\n",
       "      <td>0</td>\n",
       "      <td>0</td>\n",
       "      <td>0</td>\n",
       "      <td>0</td>\n",
       "      <td>0</td>\n",
       "      <td>0</td>\n",
       "      <td>0</td>\n",
       "    </tr>\n",
       "    <tr>\n",
       "      <th>159567</th>\n",
       "      <td>ashamed horrible thing talk page numbr</td>\n",
       "      <td>0</td>\n",
       "      <td>0</td>\n",
       "      <td>0</td>\n",
       "      <td>0</td>\n",
       "      <td>0</td>\n",
       "      <td>0</td>\n",
       "      <td>0</td>\n",
       "    </tr>\n",
       "    <tr>\n",
       "      <th>159568</th>\n",
       "      <td>spitzer umm there actual article prostitution ...</td>\n",
       "      <td>0</td>\n",
       "      <td>0</td>\n",
       "      <td>0</td>\n",
       "      <td>0</td>\n",
       "      <td>0</td>\n",
       "      <td>0</td>\n",
       "      <td>0</td>\n",
       "    </tr>\n",
       "    <tr>\n",
       "      <th>159569</th>\n",
       "      <td>look like actually speedy version deleted look</td>\n",
       "      <td>0</td>\n",
       "      <td>0</td>\n",
       "      <td>0</td>\n",
       "      <td>0</td>\n",
       "      <td>0</td>\n",
       "      <td>0</td>\n",
       "      <td>0</td>\n",
       "    </tr>\n",
       "    <tr>\n",
       "      <th>159570</th>\n",
       "      <td>really dont think understand came idea bad rig...</td>\n",
       "      <td>0</td>\n",
       "      <td>0</td>\n",
       "      <td>0</td>\n",
       "      <td>0</td>\n",
       "      <td>0</td>\n",
       "      <td>0</td>\n",
       "      <td>0</td>\n",
       "    </tr>\n",
       "  </tbody>\n",
       "</table>\n",
       "<p>159571 rows × 8 columns</p>\n",
       "</div>"
      ],
      "text/plain": [
       "                                             comment_text  malignant  \\\n",
       "0       explanation edits username hardcore metallica ...          0   \n",
       "1       daww match background colour im seemingly stuc...          0   \n",
       "2       hey man im really trying edit war just guy con...          0   \n",
       "3       make real suggestion improvement wondered sect...          0   \n",
       "4                     sir hero chance remember page thats          0   \n",
       "...                                                   ...        ...   \n",
       "159566  second time asking view completely contradicts...          0   \n",
       "159567             ashamed horrible thing talk page numbr          0   \n",
       "159568  spitzer umm there actual article prostitution ...          0   \n",
       "159569     look like actually speedy version deleted look          0   \n",
       "159570  really dont think understand came idea bad rig...          0   \n",
       "\n",
       "        highly_malignant  rude  threat  abuse  loathe  bad  \n",
       "0                      0     0       0      0       0    0  \n",
       "1                      0     0       0      0       0    0  \n",
       "2                      0     0       0      0       0    0  \n",
       "3                      0     0       0      0       0    0  \n",
       "4                      0     0       0      0       0    0  \n",
       "...                  ...   ...     ...    ...     ...  ...  \n",
       "159566                 0     0       0      0       0    0  \n",
       "159567                 0     0       0      0       0    0  \n",
       "159568                 0     0       0      0       0    0  \n",
       "159569                 0     0       0      0       0    0  \n",
       "159570                 0     0       0      0       0    0  \n",
       "\n",
       "[159571 rows x 8 columns]"
      ]
     },
     "execution_count": 18,
     "metadata": {},
     "output_type": "execute_result"
    }
   ],
   "source": [
    "cols_target =['malignant','highly_malignant','rude','threat','abuse','loathe']\n",
    "\n",
    "df_train['bad'] =df_train[cols_target].sum(axis =1)\n",
    "print(df_train['bad'].value_counts())\n",
    "df_train"
   ]
  },
  {
   "cell_type": "code",
   "execution_count": 19,
   "id": "48c37d9b",
   "metadata": {},
   "outputs": [
    {
     "data": {
      "text/plain": [
       "array([0, 4, 1, 3, 2, 5, 6], dtype=int64)"
      ]
     },
     "execution_count": 19,
     "metadata": {},
     "output_type": "execute_result"
    }
   ],
   "source": [
    "df_train['bad'].unique()"
   ]
  },
  {
   "cell_type": "code",
   "execution_count": 20,
   "id": "28831f9f",
   "metadata": {},
   "outputs": [],
   "source": [
    "#Vectorized to check the frequency of 10000  frequent words_df_train\n",
    "from sklearn.feature_extraction.text import TfidfVectorizer\n",
    "tf_vec = TfidfVectorizer(max_features = 1000, stop_words='english')\n",
    "features = tf_vec.fit_transform(df_train['comment_text'])\n",
    "x = features"
   ]
  },
  {
   "cell_type": "code",
   "execution_count": 21,
   "id": "e8cdab4b",
   "metadata": {},
   "outputs": [],
   "source": [
    "#Vectorized to check the frequency of 10000  frequent words_df_test\n",
    "from sklearn.feature_extraction.text import TfidfVectorizer\n",
    "tf_vec = TfidfVectorizer(max_features = 1000, stop_words='english')\n",
    "features = tf_vec.fit_transform(df_test['comment_text'])\n",
    "x_test_actual= features"
   ]
  },
  {
   "cell_type": "code",
   "execution_count": 22,
   "id": "0fde5291",
   "metadata": {},
   "outputs": [],
   "source": [
    "df_train=df_train.drop(columns=['malignant','highly_malignant','rude','threat','abuse','loathe'])"
   ]
  },
  {
   "cell_type": "code",
   "execution_count": 23,
   "id": "2b128007",
   "metadata": {},
   "outputs": [
    {
     "data": {
      "text/html": [
       "<div>\n",
       "<style scoped>\n",
       "    .dataframe tbody tr th:only-of-type {\n",
       "        vertical-align: middle;\n",
       "    }\n",
       "\n",
       "    .dataframe tbody tr th {\n",
       "        vertical-align: top;\n",
       "    }\n",
       "\n",
       "    .dataframe thead th {\n",
       "        text-align: right;\n",
       "    }\n",
       "</style>\n",
       "<table border=\"1\" class=\"dataframe\">\n",
       "  <thead>\n",
       "    <tr style=\"text-align: right;\">\n",
       "      <th></th>\n",
       "      <th>comment_text</th>\n",
       "      <th>bad</th>\n",
       "    </tr>\n",
       "  </thead>\n",
       "  <tbody>\n",
       "    <tr>\n",
       "      <th>0</th>\n",
       "      <td>explanation edits username hardcore metallica ...</td>\n",
       "      <td>0</td>\n",
       "    </tr>\n",
       "    <tr>\n",
       "      <th>1</th>\n",
       "      <td>daww match background colour im seemingly stuc...</td>\n",
       "      <td>0</td>\n",
       "    </tr>\n",
       "    <tr>\n",
       "      <th>2</th>\n",
       "      <td>hey man im really trying edit war just guy con...</td>\n",
       "      <td>0</td>\n",
       "    </tr>\n",
       "    <tr>\n",
       "      <th>3</th>\n",
       "      <td>make real suggestion improvement wondered sect...</td>\n",
       "      <td>0</td>\n",
       "    </tr>\n",
       "    <tr>\n",
       "      <th>4</th>\n",
       "      <td>sir hero chance remember page thats</td>\n",
       "      <td>0</td>\n",
       "    </tr>\n",
       "    <tr>\n",
       "      <th>...</th>\n",
       "      <td>...</td>\n",
       "      <td>...</td>\n",
       "    </tr>\n",
       "    <tr>\n",
       "      <th>159566</th>\n",
       "      <td>second time asking view completely contradicts...</td>\n",
       "      <td>0</td>\n",
       "    </tr>\n",
       "    <tr>\n",
       "      <th>159567</th>\n",
       "      <td>ashamed horrible thing talk page numbr</td>\n",
       "      <td>0</td>\n",
       "    </tr>\n",
       "    <tr>\n",
       "      <th>159568</th>\n",
       "      <td>spitzer umm there actual article prostitution ...</td>\n",
       "      <td>0</td>\n",
       "    </tr>\n",
       "    <tr>\n",
       "      <th>159569</th>\n",
       "      <td>look like actually speedy version deleted look</td>\n",
       "      <td>0</td>\n",
       "    </tr>\n",
       "    <tr>\n",
       "      <th>159570</th>\n",
       "      <td>really dont think understand came idea bad rig...</td>\n",
       "      <td>0</td>\n",
       "    </tr>\n",
       "  </tbody>\n",
       "</table>\n",
       "<p>159571 rows × 2 columns</p>\n",
       "</div>"
      ],
      "text/plain": [
       "                                             comment_text  bad\n",
       "0       explanation edits username hardcore metallica ...    0\n",
       "1       daww match background colour im seemingly stuc...    0\n",
       "2       hey man im really trying edit war just guy con...    0\n",
       "3       make real suggestion improvement wondered sect...    0\n",
       "4                     sir hero chance remember page thats    0\n",
       "...                                                   ...  ...\n",
       "159566  second time asking view completely contradicts...    0\n",
       "159567             ashamed horrible thing talk page numbr    0\n",
       "159568  spitzer umm there actual article prostitution ...    0\n",
       "159569     look like actually speedy version deleted look    0\n",
       "159570  really dont think understand came idea bad rig...    0\n",
       "\n",
       "[159571 rows x 2 columns]"
      ]
     },
     "execution_count": 23,
     "metadata": {},
     "output_type": "execute_result"
    }
   ],
   "source": [
    "df_train"
   ]
  },
  {
   "cell_type": "code",
   "execution_count": 24,
   "id": "8da7eeb5",
   "metadata": {},
   "outputs": [],
   "source": [
    "y=df_train['bad']"
   ]
  },
  {
   "cell_type": "code",
   "execution_count": 25,
   "id": "83e758a9",
   "metadata": {},
   "outputs": [],
   "source": [
    "from sklearn.model_selection import train_test_split\n",
    "x_train, x_test, y_train, y_test=train_test_split(x,y,test_size=0.25, random_state=100)"
   ]
  },
  {
   "cell_type": "code",
   "execution_count": 26,
   "id": "c4ca1d4e",
   "metadata": {},
   "outputs": [],
   "source": [
    "from sklearn.linear_model import LogisticRegression\n",
    "LG=LogisticRegression()\n",
    "LG.fit(x_train,y_train)\n",
    "y_pred=LG.predict(x_test)"
   ]
  },
  {
   "cell_type": "code",
   "execution_count": 27,
   "id": "d9f3ad29",
   "metadata": {},
   "outputs": [
    {
     "name": "stdout",
     "output_type": "stream",
     "text": [
      "              precision    recall  f1-score   support\n",
      "\n",
      "           0       0.95      1.00      0.97     35822\n",
      "           1       0.31      0.11      0.17      1601\n",
      "           2       0.35      0.09      0.14       893\n",
      "           3       0.48      0.52      0.50      1040\n",
      "           4       0.45      0.22      0.29       431\n",
      "           5       0.33      0.01      0.02        98\n",
      "           6       0.00      0.00      0.00         8\n",
      "\n",
      "    accuracy                           0.92     39893\n",
      "   macro avg       0.41      0.28      0.30     39893\n",
      "weighted avg       0.89      0.92      0.90     39893\n",
      "\n",
      "[[35694   106     8    14     0     0     0]\n",
      " [ 1290   183    42    82     4     0     0]\n",
      " [  456   136    77   215     9     0     0]\n",
      " [  258   122    62   536    61     1     0]\n",
      " [   60    34    20   223    94     0     0]\n",
      " [    9     3    10    35    40     1     0]\n",
      " [    1     0     0     4     2     1     0]]\n"
     ]
    }
   ],
   "source": [
    "### Classification report- Which gives accuracy, precision, F1 score\n",
    "from sklearn.metrics import classification_report, confusion_matrix\n",
    "\n",
    "print(classification_report(y_test,y_pred,digits=2))\n",
    "print(confusion_matrix(y_test, y_pred))"
   ]
  },
  {
   "cell_type": "markdown",
   "id": "496eb880",
   "metadata": {},
   "source": [
    "## As the classification sccuracy for lower number classes  is less  model is not working well.\n",
    "\n",
    "SMOTE would not work to oversampke the data, Let try putting all the bad comments into one class\n"
   ]
  },
  {
   "cell_type": "code",
   "execution_count": 28,
   "id": "6ed40241",
   "metadata": {},
   "outputs": [],
   "source": [
    "df_train['bad'] = df_train['bad'].replace({2:1,3:1, 4:1, 5:1, 6:1},regex=True)"
   ]
  },
  {
   "cell_type": "code",
   "execution_count": 29,
   "id": "ddf6fd5d",
   "metadata": {},
   "outputs": [],
   "source": [
    "df_train['bad']=y"
   ]
  },
  {
   "cell_type": "code",
   "execution_count": 30,
   "id": "2749c2a4",
   "metadata": {},
   "outputs": [],
   "source": [
    "from sklearn.model_selection import train_test_split\n",
    "x_train, x_test, y_train, y_test=train_test_split(x,y,test_size=0.25, random_state=100)"
   ]
  },
  {
   "cell_type": "code",
   "execution_count": 31,
   "id": "ed07e63b",
   "metadata": {},
   "outputs": [],
   "source": [
    "from sklearn.linear_model import LogisticRegression\n",
    "LG=LogisticRegression()\n",
    "LG.fit(x_train,y_train)\n",
    "y_pred=LG.predict(x_test)"
   ]
  },
  {
   "cell_type": "code",
   "execution_count": 32,
   "id": "ae2d8313",
   "metadata": {},
   "outputs": [
    {
     "name": "stdout",
     "output_type": "stream",
     "text": [
      "              precision    recall  f1-score   support\n",
      "\n",
      "           0       0.95      0.99      0.97     35822\n",
      "           1       0.90      0.55      0.68      4071\n",
      "\n",
      "    accuracy                           0.95     39893\n",
      "   macro avg       0.93      0.77      0.83     39893\n",
      "weighted avg       0.95      0.95      0.94     39893\n",
      "\n",
      "[[35574   248]\n",
      " [ 1848  2223]]\n"
     ]
    }
   ],
   "source": [
    "### Classification report- Which gives accuracy, precision, F1 score\n",
    "from sklearn.metrics import classification_report, confusion_matrix\n",
    "\n",
    "print(classification_report(y_test,y_pred,digits=2))\n",
    "print(confusion_matrix(y_test, y_pred))"
   ]
  },
  {
   "cell_type": "code",
   "execution_count": 33,
   "id": "39a936e0",
   "metadata": {},
   "outputs": [],
   "source": [
    "#Model looks promising, Let use with test data\n",
    "\n",
    "\n",
    "y_pred_actual=LG.predict(x_test_actual)"
   ]
  },
  {
   "cell_type": "code",
   "execution_count": 34,
   "id": "c16bf6aa",
   "metadata": {},
   "outputs": [
    {
     "data": {
      "text/plain": [
       "array([0, 0, 0, ..., 0, 0, 0], dtype=int64)"
      ]
     },
     "execution_count": 34,
     "metadata": {},
     "output_type": "execute_result"
    }
   ],
   "source": [
    "y_pred_actual"
   ]
  },
  {
   "cell_type": "code",
   "execution_count": 35,
   "id": "f2a70aa4",
   "metadata": {},
   "outputs": [],
   "source": [
    "#building a csv\n",
    "np.savetxt('test_actual.csv', y_pred_actual, delimiter=',')"
   ]
  },
  {
   "cell_type": "code",
   "execution_count": null,
   "id": "893e5381",
   "metadata": {},
   "outputs": [],
   "source": []
  }
 ],
 "metadata": {
  "kernelspec": {
   "display_name": "Python 3",
   "language": "python",
   "name": "python3"
  },
  "language_info": {
   "codemirror_mode": {
    "name": "ipython",
    "version": 3
   },
   "file_extension": ".py",
   "mimetype": "text/x-python",
   "name": "python",
   "nbconvert_exporter": "python",
   "pygments_lexer": "ipython3",
   "version": "3.8.8"
  }
 },
 "nbformat": 4,
 "nbformat_minor": 5
}

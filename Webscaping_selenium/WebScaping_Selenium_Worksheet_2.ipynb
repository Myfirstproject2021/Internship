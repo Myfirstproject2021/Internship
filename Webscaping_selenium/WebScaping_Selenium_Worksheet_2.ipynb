{
 "cells": [
  {
   "cell_type": "code",
   "execution_count": null,
   "id": "36efd37d",
   "metadata": {},
   "outputs": [],
   "source": [
    "#!pip install selenium"
   ]
  },
  {
   "cell_type": "code",
   "execution_count": null,
   "id": "363718e5",
   "metadata": {},
   "outputs": [],
   "source": [
    "#Checking the version of Web chrome and install respective Driver from\n",
    "#Version 97.0.4692.71 (Official Build) (64-bit)\n",
    "#Dowloaded the driver"
   ]
  },
  {
   "cell_type": "code",
   "execution_count": null,
   "id": "0539552c",
   "metadata": {},
   "outputs": [],
   "source": [
    "import selenium\n",
    "from selenium import webdriver\n",
    "import pandas as pd\n",
    "import warnings\n",
    "warnings.filterwarnings(\"ignore\")"
   ]
  },
  {
   "cell_type": "code",
   "execution_count": null,
   "id": "cad4e370",
   "metadata": {},
   "outputs": [],
   "source": [
    "driver=webdriver.Chrome(r'C:\\Users\\surendar.reddy\\Documents\\data Science projet_Data traine\\Web Scaping_Worksheet-2\\chromedriver_win32\\chromedriver.exe')"
   ]
  },
  {
   "cell_type": "code",
   "execution_count": null,
   "id": "bc11c1cd",
   "metadata": {},
   "outputs": [],
   "source": [
    "url='https://www.naukri.com/'\n",
    "driver.get(url)"
   ]
  },
  {
   "cell_type": "code",
   "execution_count": null,
   "id": "7bfce6a1",
   "metadata": {},
   "outputs": [],
   "source": [
    "search_JOB=driver.find_element_by_id(\"qsb-keyword-sugg\")\n",
    "search_JOB.send_keys(\"Data Analyst\")"
   ]
  },
  {
   "cell_type": "code",
   "execution_count": null,
   "id": "d3378a66",
   "metadata": {},
   "outputs": [],
   "source": [
    "search_location=driver.find_element_by_id(\"qsb-location-sugg\")\n",
    "search_location.send_keys(\"Bangalore\")"
   ]
  },
  {
   "cell_type": "code",
   "execution_count": null,
   "id": "4b0fafd1",
   "metadata": {},
   "outputs": [],
   "source": [
    "Select_button=driver.find_element_by_xpath('/html/body/div[1]/div[3]/div[2]/section/div/form/div[3]/button')\n",
    "Select_button.click()"
   ]
  },
  {
   "cell_type": "code",
   "execution_count": null,
   "id": "ae23ae14",
   "metadata": {},
   "outputs": [],
   "source": [
    "search_job_titles=driver.find_elements_by_xpath('//a[@class=\"title fw500 ellipsis\"]')\n",
    "job_titles=[]\n",
    "for i in search_job_titles:\n",
    "    job_titles.append(i.text)\n",
    "job_titles\n",
    "    \n",
    "job=pd.DataFrame(job_titles)\n",
    "job.columns=['JOBS FOR DATAANALYST IN BANGLORE']\n",
    "job[0:10]"
   ]
  },
  {
   "cell_type": "markdown",
   "id": "6dfa2fe1",
   "metadata": {},
   "source": [
    "#2-Question "
   ]
  },
  {
   "cell_type": "code",
   "execution_count": null,
   "id": "68723fbc",
   "metadata": {},
   "outputs": [],
   "source": [
    "url='https://www.naukri.com/'\n",
    "driver.get(url)\n",
    "\n",
    "search_JOB=driver.find_element_by_id(\"qsb-keyword-sugg\")\n",
    "search_JOB.send_keys(\"Data Scientist\")"
   ]
  },
  {
   "cell_type": "code",
   "execution_count": null,
   "id": "ce455cca",
   "metadata": {},
   "outputs": [],
   "source": [
    "search_location=driver.find_element_by_id(\"qsb-location-sugg\")\n",
    "search_location.send_keys(\"Bangalore\")"
   ]
  },
  {
   "cell_type": "code",
   "execution_count": null,
   "id": "9070243d",
   "metadata": {},
   "outputs": [],
   "source": [
    "Select_button=driver.find_element_by_xpath('/html/body/div[1]/div[3]/div[2]/section/div/form/div[3]/button')\n",
    "Select_button.click()"
   ]
  },
  {
   "cell_type": "code",
   "execution_count": null,
   "id": "def620b9",
   "metadata": {},
   "outputs": [],
   "source": [
    "search_job_titles=driver.find_elements_by_xpath('//a[@class=\"title fw500 ellipsis\"]')\n",
    "job_titles=[]\n",
    "for i in search_job_titles:\n",
    "    job_titles.append(i.text)    \n",
    "job=pd.DataFrame(job_titles)\n",
    "job.columns=['JOBS FOR DATASCIENTIST IN BANGLORE']\n",
    "job[0:10]"
   ]
  },
  {
   "cell_type": "markdown",
   "id": "6202f6ea",
   "metadata": {},
   "source": [
    "#3 Data Scientist bby Filters"
   ]
  },
  {
   "cell_type": "code",
   "execution_count": null,
   "id": "9038150d",
   "metadata": {},
   "outputs": [],
   "source": [
    "url='https://www.naukri.com/'\n",
    "driver.get(url)\n",
    "search_JOB=driver.find_element_by_id(\"qsb-keyword-sugg\")\n",
    "search_JOB.send_keys(\"Data Scientist\")"
   ]
  },
  {
   "cell_type": "code",
   "execution_count": null,
   "id": "6d6a0504",
   "metadata": {},
   "outputs": [],
   "source": [
    "Select_button=driver.find_element_by_xpath('/html/body/div[1]/div[3]/div[2]/section/div/form/div[3]/button')\n",
    "Select_button.click()"
   ]
  },
  {
   "cell_type": "code",
   "execution_count": null,
   "id": "80beeca8",
   "metadata": {},
   "outputs": [],
   "source": [
    "Select_location=driver.find_element_by_xpath('/html/body/div[1]/div[3]/div[2]/section[1]/div[2]/div[3]/div[2]/div[3]/label/i')\n",
    "Select_location.click()"
   ]
  },
  {
   "cell_type": "code",
   "execution_count": null,
   "id": "d0429b6d",
   "metadata": {},
   "outputs": [],
   "source": [
    "Select_salary=driver.find_element_by_xpath('/html/body/div[1]/div[3]/div[2]/section[1]/div[2]/div[4]/div[2]/div[1]/label/i')\n",
    "Select_salary.click()"
   ]
  },
  {
   "cell_type": "code",
   "execution_count": null,
   "id": "b679988d",
   "metadata": {},
   "outputs": [],
   "source": [
    "job_titles=[]\n",
    "job_location=[]\n",
    "company=[]\n",
    "experience=[]\n",
    "search_job_titles=driver.find_elements_by_xpath('//a[@class=\"title fw500 ellipsis\"]')\n",
    "for i in search_job_titles:\n",
    "    job_titles.append(i.text)"
   ]
  },
  {
   "cell_type": "code",
   "execution_count": null,
   "id": "e3ade272",
   "metadata": {},
   "outputs": [],
   "source": [
    "search_job_exp=driver.find_elements_by_xpath('//li[@class=\"fleft grey-text br2 placeHolderLi experience\"]')\n",
    "for i in search_job_exp:\n",
    "    experience.append(i.text)"
   ]
  },
  {
   "cell_type": "code",
   "execution_count": null,
   "id": "b092420c",
   "metadata": {},
   "outputs": [],
   "source": [
    "search_job_location=driver.find_elements_by_xpath('//li[@class=\"fleft grey-text br2 placeHolderLi location\"]')\n",
    "for i in search_job_location:\n",
    "    job_location.append(i.text)"
   ]
  },
  {
   "cell_type": "code",
   "execution_count": null,
   "id": "d93c6fd9",
   "metadata": {},
   "outputs": [],
   "source": [
    "search_job_company=driver.find_elements_by_xpath('//div[@class=\"mt-7 companyInfo subheading lh16\"]')\n",
    "for i in search_job_company:\n",
    "    company.append(i.text)"
   ]
  },
  {
   "cell_type": "code",
   "execution_count": null,
   "id": "dcbf9639",
   "metadata": {},
   "outputs": [],
   "source": [
    "DATA_DS_DELHI=pd.DataFrame({})\n",
    "DATA_DS_DELHI['job_titles']=job_titles\n",
    "DATA_DS_DELHI['experience']=experience\n",
    "DATA_DS_DELHI['company']=company\n",
    "DATA_DS_DELHI['job_location']=job_location\n",
    "DATA_DS_DELHI[0:10]"
   ]
  },
  {
   "cell_type": "markdown",
   "id": "0e4390c8",
   "metadata": {},
   "source": [
    "#4-Flipcart-Sunclasses"
   ]
  },
  {
   "cell_type": "code",
   "execution_count": null,
   "id": "0b3b3781",
   "metadata": {},
   "outputs": [],
   "source": [
    "url='https://www.flipkart.com'\n",
    "driver.get(url)"
   ]
  },
  {
   "cell_type": "code",
   "execution_count": null,
   "id": "debf9e50",
   "metadata": {},
   "outputs": [],
   "source": [
    "search_Sunglasses=driver.find_element_by_xpath(\"/html/body/div[1]/div/div[1]/div[1]/div[2]/div[2]/form/div/div/input\")\n",
    "search_Sunglasses.send_keys(\"Sunglasses\")"
   ]
  },
  {
   "cell_type": "code",
   "execution_count": null,
   "id": "0d1e8363",
   "metadata": {},
   "outputs": [],
   "source": [
    "search_button=driver.find_element_by_xpath('/html/body/div[1]/div/div[1]/div[1]/div[2]/div[2]/form/div/button')\n",
    "search_button.click()"
   ]
  },
  {
   "cell_type": "code",
   "execution_count": null,
   "id": "8e846acb",
   "metadata": {},
   "outputs": [],
   "source": [
    "sunglasses=[]\n",
    "search_sunglasses=driver.find_elements_by_xpath('//div[@class=\"_2B099V\"]')\n",
    "for i in search_sunglasses:\n",
    "    sunglasses.append(i.text.split('\\n'))\n",
    "Sunglasses_df1=pd.DataFrame(sunglasses)"
   ]
  },
  {
   "cell_type": "code",
   "execution_count": null,
   "id": "6d4924cb",
   "metadata": {},
   "outputs": [],
   "source": [
    "next_button=driver.find_element_by_xpath('/html/body/div[1]/div/div[3]/div[1]/div[2]/div[12]/div/div/nav/a[11]/span')\n",
    "next_button.click()"
   ]
  },
  {
   "cell_type": "code",
   "execution_count": null,
   "id": "2f935ec7",
   "metadata": {},
   "outputs": [],
   "source": [
    "sunglasses2=[]\n",
    "\n",
    "search_sunglasses2=driver.find_elements_by_xpath('//div[@class=\"_2B099V\"]')\n",
    "for i in search_sunglasses2:\n",
    "    sunglasses2.append(i.text.split('\\n'))\n",
    "Sunglasses_df2=pd.DataFrame(sunglasses2)"
   ]
  },
  {
   "cell_type": "code",
   "execution_count": null,
   "id": "eac1fefe",
   "metadata": {},
   "outputs": [],
   "source": [
    "next_button=driver.find_element_by_xpath('/html/body/div[1]/div/div[3]/div[1]/div[2]/div[12]/div/div/nav/a[12]/span')\n",
    "next_button.click()"
   ]
  },
  {
   "cell_type": "code",
   "execution_count": null,
   "id": "501e814b",
   "metadata": {},
   "outputs": [],
   "source": [
    "sunglasses3=[]\n",
    "search_sunglasses3=driver.find_elements_by_xpath('//div[@class=\"_2B099V\"]')\n",
    "for i in search_sunglasses3:\n",
    "    sunglasses3.append(i.text.split('\\n'))\n",
    "Sunglasses_df3=pd.DataFrame(sunglasses3)"
   ]
  },
  {
   "cell_type": "code",
   "execution_count": null,
   "id": "ef338a6b",
   "metadata": {},
   "outputs": [],
   "source": [
    "Frames=[Sunglasses_df1,Sunglasses_df2,Sunglasses_df3]\n",
    "Sunglasses=pd.concat(Frames, join='inner', axis=0)\n",
    "Sunglasses.columns=['Product Name','Desc','Prize','drop']\n",
    "Sunglasses[['drop','discountedprize','drop']] = Sunglasses.Prize.str.split(\"₹\",expand=True)\n",
    "Sunglasses.drop('drop', inplace=True, axis=1)\n",
    "Sunglasses.drop('Prize', inplace=True, axis=1)\n",
    "Sunglasses[0:100]"
   ]
  },
  {
   "cell_type": "markdown",
   "id": "6ac4ef7d",
   "metadata": {},
   "source": [
    "#5) 100 Review data from Iphone11"
   ]
  },
  {
   "cell_type": "code",
   "execution_count": null,
   "id": "8d9a2e5c",
   "metadata": {},
   "outputs": [],
   "source": [
    "driver=webdriver.Chrome(r'C:\\Users\\surendar.reddy\\Documents\\data Science projet_Data traine\\Web Scaping_Worksheet-2\\chromedriver_win32\\chromedriver.exe')\n",
    "url='https://www.flipkart.com/apple-iphone-11-black-64-gb-includes- earpods-power\u0002adapter/p/itm0f37c2240b217?pid=MOBFKCTSVZAXUHGR&lid=LSTMOBFKCTSVZAXUHGREPBFGI&marketplace.'\n",
    "driver.get(url)\n"
   ]
  },
  {
   "cell_type": "code",
   "execution_count": null,
   "id": "2648e1f5",
   "metadata": {},
   "outputs": [],
   "source": [
    "ALLREVIEW_button=driver.find_element_by_xpath('/html/body/div[1]/div/div[3]/div[1]/div[2]/div[7]/div/div/div[5]/div/a/div/span')\n",
    "ALLREVIEW_button.click()"
   ]
  },
  {
   "cell_type": "code",
   "execution_count": null,
   "id": "5cf9736a",
   "metadata": {},
   "outputs": [],
   "source": [
    "   \n",
    "Review_rating=[]\n",
    "search_Review_rating=driver.find_elements_by_xpath('//div[@class=\"_3LWZlK _1BLPMq\"]')\n",
    "for i in search_Review_rating:\n",
    "    Review_rating.append(i.text)\n",
    "Review_rating=pd.DataFrame(Review_rating)\n",
    "#Review_rating\n",
    "\n",
    "Review_summary=[]\n",
    "search_Review_summary=driver.find_elements_by_xpath('//p[@class=\"_2-N8zT\"]')\n",
    "for i in search_Review_summary:\n",
    "    Review_summary.append(i.text)\n",
    "Review_summary=pd.DataFrame(Review_summary)\n",
    "#Review_summary\n",
    "\n",
    "Review_complete=[]\n",
    "search_Review_complete=driver.find_elements_by_xpath('//div[@class=\"t-ZTKy\"]')\n",
    "for i in search_Review_complete:\n",
    "    Review_complete.append(i.text)\n",
    "Review_complete=pd.DataFrame(Review_complete)\n",
    "#Review_complete\n",
    "\n",
    "IPHONE10=pd.DataFrame({})\n",
    "IPHONE10['Review_rating']=Review_rating\n",
    "IPHONE10['Review_summary']=Review_summary\n",
    "IPHONE10['Review_complete']=Review_complete\n"
   ]
  },
  {
   "cell_type": "code",
   "execution_count": null,
   "id": "6bc3235a",
   "metadata": {},
   "outputs": [],
   "source": [
    "ALLREVIEWNEXT_button=driver.find_element_by_xpath('/html/body/div[1]/div/div[3]/div/div/div[2]/div[13]/div/div/nav/a[12]/span')\n",
    "ALLREVIEWNEXT_button.click()"
   ]
  },
  {
   "cell_type": "code",
   "execution_count": null,
   "id": "5664d284",
   "metadata": {},
   "outputs": [],
   "source": [
    "# At each iteration aved a data Frame\n",
    "IPHONE1=pd.DataFrame(IPHONE1)\n",
    "IPHONE2=pd.DataFrame(IPHONE2)\n",
    "IPHONE3=pd.DataFrame(IPHONE3)\n",
    "IPHONE4=pd.DataFrame(IPHONE4)\n",
    "IPHONE5=pd.DataFrame(IPHONE5)\n",
    "IPHONE6=pd.DataFrame(IPHONE6)\n",
    "IPHONE7=pd.DataFrame(IPHONE7)\n",
    "IPHONE8=pd.DataFrame(IPHONE8)\n",
    "IPHONE9=pd.DataFrame(IPHONE9)\n",
    "IPHONE10=pd.DataFrame(IPHONE10)\n",
    "IPHONE=pd.concat([IPHONE1, IPHONE2,IPHONE3,IPHONE4,IPHONE5,IPHONE6,IPHONE7,IPHONE8,IPHONE9,IPHONE10], ignore_index=True)\n",
    "\n",
    "pd.set_option('display.max_rows', None)\n",
    "IPHONE"
   ]
  },
  {
   "cell_type": "markdown",
   "id": "768fc792",
   "metadata": {},
   "source": [
    "import itertools\n",
    "num = 10\n",
    "for _ in itertools.repeat(None, num):\n",
    "    Review_rating=[]\n",
    "    search_Review_rating=driver.find_elements_by_xpath('//div[@class=\"_3LWZlK _1BLPMq\"]')\n",
    "    for i in search_Review_rating:\n",
    "        Review_rating.append(i.text)\n",
    "        Review_rating\n",
    "result=Review_rating.append\n",
    "result"
   ]
  },
  {
   "cell_type": "markdown",
   "id": "d31cce98",
   "metadata": {},
   "source": [
    "#Q6-Scape  100 sneakers "
   ]
  },
  {
   "cell_type": "code",
   "execution_count": null,
   "id": "746af807",
   "metadata": {},
   "outputs": [],
   "source": [
    "driver=webdriver.Chrome(r'C:\\Users\\surendar.reddy\\Documents\\data Science projet_Data traine\\Web Scaping_Worksheet-2\\chromedriver_win32\\chromedriver.exe')\n",
    "url='https://www.flipkart.com/'\n",
    "driver.get(url)\n"
   ]
  },
  {
   "cell_type": "code",
   "execution_count": null,
   "id": "3dc25ca1",
   "metadata": {},
   "outputs": [],
   "source": [
    "search_Sneakers=driver.find_element_by_xpath(\"/html/body/div[1]/div/div[1]/div[1]/div[2]/div[2]/form/div/div/input\")\n",
    "search_Sneakers.send_keys(\"Sneakers\")\n"
   ]
  },
  {
   "cell_type": "code",
   "execution_count": null,
   "id": "03e0309f",
   "metadata": {},
   "outputs": [],
   "source": [
    "search_button=driver.find_element_by_xpath('/html/body/div[1]/div/div[1]/div[1]/div[2]/div[2]/form/div/button')\n",
    "search_button.click()"
   ]
  },
  {
   "cell_type": "code",
   "execution_count": null,
   "id": "63677842",
   "metadata": {},
   "outputs": [],
   "source": [
    "search_button=driver.find_element_by_xpath('/html/body/div[1]/div/div[3]/div[1]/div[1]/div/div/div/section[3]/label/div[1]')\n",
    "search_button.click()"
   ]
  },
  {
   "cell_type": "code",
   "execution_count": null,
   "id": "3815168b",
   "metadata": {},
   "outputs": [],
   "source": [
    "Sneakers=[]\n",
    "search_Sneakers=driver.find_elements_by_xpath('//div[@class=\"_2WkVRV\"]')\n",
    "for i in search_Sneakers:\n",
    "    Sneakers.append(i.text)\n",
    "Sneakers_dsc=[]\n",
    "search_Sneakers_dsc=driver.find_elements_by_xpath('//a[@class=\"IRpwTa\"]')\n",
    "for i in search_Sneakers_dsc:\n",
    "    Sneakers_dsc.append(i.text)\n",
    "Sneakers_prize=[]\n",
    "search_Sneakers_prize=driver.find_elements_by_xpath('//div[@class=\"_30jeq3\"]')\n",
    "for i in search_Sneakers_prize:\n",
    "    Sneakers_prize.append(i.text)\n",
    "Sneakers_Dprize=[]\n",
    "search_Sneakers_Dprize=driver.find_elements_by_xpath('//div[@class=\"_3Ay6Sb\"]')\n",
    "for i in search_Sneakers_Dprize:\n",
    "    Sneakers_Dprize.append(i.text)\n",
    "SNEAKERS_FULL1=pd.DataFrame({})\n",
    "SNEAKERS_FULL1['Sneakers']=Sneakers\n",
    "SNEAKERS_FULL1['Sneakers_dsc']=Sneakers_dsc\n",
    "SNEAKERS_FULL1['Sneakers_prize']=Sneakers_prize\n",
    "SNEAKERS_FULL1['SSneakers_Dprize']=Sneakers_Dprize"
   ]
  },
  {
   "cell_type": "code",
   "execution_count": null,
   "id": "ac68da71",
   "metadata": {},
   "outputs": [],
   "source": [
    "next_button=driver.find_element_by_xpath('/html/body/div[1]/div/div[3]/div/div[2]/div[12]/div/div/nav/a[11]/span')\n",
    "next_button.click()"
   ]
  },
  {
   "cell_type": "code",
   "execution_count": null,
   "id": "84bb50b9",
   "metadata": {},
   "outputs": [],
   "source": [
    "Sneakers2=[]\n",
    "search_Sneakers=driver.find_elements_by_xpath('//div[@class=\"_2WkVRV\"]')\n",
    "for i in search_Sneakers:\n",
    "    Sneakers2.append(i.text)\n",
    "Sneakers_dsc2=[]\n",
    "search_Sneakers_dsc=driver.find_elements_by_xpath('//a[@class=\"IRpwTa\"]')\n",
    "for i in search_Sneakers_dsc:\n",
    "    Sneakers_dsc2.append(i.text)\n",
    "Sneakers_prize2=[]\n",
    "search_Sneakers_prize=driver.find_elements_by_xpath('//div[@class=\"_30jeq3\"]')\n",
    "for i in search_Sneakers_prize:\n",
    "    Sneakers_prize2.append(i.text)\n",
    "Sneakers_Dprize2=[]\n",
    "search_Sneakers_Dprize=driver.find_elements_by_xpath('//div[@class=\"_3Ay6Sb\"]')\n",
    "for i in search_Sneakers_Dprize:\n",
    "    Sneakers_Dprize2.append(i.text)\n",
    "SNEAKERS_FULL2=pd.DataFrame({})\n",
    "SNEAKERS_FULL2['Sneakers']=Sneakers2\n",
    "SNEAKERS_FULL2['Sneakers_dsc']=Sneakers_dsc2\n",
    "SNEAKERS_FULL2['Sneakers_prize']=Sneakers_prize2\n",
    "SNEAKERS_FULL2['SSneakers_Dprize']=Sneakers_Dprize2"
   ]
  },
  {
   "cell_type": "code",
   "execution_count": null,
   "id": "d1a5802f",
   "metadata": {},
   "outputs": [],
   "source": [
    "next_button=driver.find_element_by_xpath('/html/body/div[1]/div/div[3]/div/div[2]/div[12]/div/div/nav/a[12]/span')\n",
    "next_button.click()"
   ]
  },
  {
   "cell_type": "code",
   "execution_count": null,
   "id": "e840fc3a",
   "metadata": {},
   "outputs": [],
   "source": [
    "Sneakers3=[]\n",
    "search_Sneakers=driver.find_elements_by_xpath('//div[@class=\"_2WkVRV\"]')\n",
    "for i in search_Sneakers:\n",
    "    Sneakers3.append(i.text)\n",
    "Sneakers_dsc3=[]\n",
    "search_Sneakers_dsc=driver.find_elements_by_xpath('//a[@class=\"IRpwTa\"]')\n",
    "for i in search_Sneakers_dsc:\n",
    "    Sneakers_dsc3.append(i.text)\n",
    "Sneakers_prize3=[]\n",
    "search_Sneakers_prize=driver.find_elements_by_xpath('//div[@class=\"_30jeq3\"]')\n",
    "for i in search_Sneakers_prize:\n",
    "    Sneakers_prize3.append(i.text)\n",
    "Sneakers_Dprize3=[]\n",
    "search_Sneakers_Dprize=driver.find_elements_by_xpath('//div[@class=\"_3Ay6Sb\"]')\n",
    "for i in search_Sneakers_Dprize:\n",
    "    Sneakers_Dprize3.append(i.text)\n",
    "SNEAKERS_FULL3=pd.DataFrame({})\n",
    "SNEAKERS_FULL3['Sneakers']=Sneakers3\n",
    "SNEAKERS_FULL3['Sneakers_dsc']=Sneakers_dsc3\n",
    "SNEAKERS_FULL3['Sneakers_prize']=Sneakers_prize3\n",
    "SNEAKERS_FULL3['Sneakers_Dprize']=Sneakers_Dprize3\n",
    "SNEAKER_ALL=pd.concat([SNEAKERS_FULL1,SNEAKERS_FULL2,SNEAKERS_FULL3])\n",
    "SNEAKER_ALL[0:100]"
   ]
  },
  {
   "cell_type": "markdown",
   "id": "68cd1874",
   "metadata": {},
   "source": [
    "#7 Web scaping for Black shoes from he myntra.com"
   ]
  },
  {
   "cell_type": "code",
   "execution_count": null,
   "id": "3b693479",
   "metadata": {},
   "outputs": [],
   "source": [
    "driver=webdriver.Chrome(r'C:\\Users\\surendar.reddy\\Documents\\data Science projet_Data traine\\Web Scaping_Worksheet-2\\chromedriver_win32\\chromedriver.exe')\n",
    "url='https://www.myntra.com/shoes'\n",
    "driver.get(url)\n"
   ]
  },
  {
   "cell_type": "code",
   "execution_count": null,
   "id": "933a7803",
   "metadata": {},
   "outputs": [],
   "source": [
    "search_button=driver.find_element_by_xpath('/html/body/div[2]/div/div[1]/main/div[3]/div[1]/section/div/div[5]/ul/li[2]/label/div')\n",
    "search_button.click()"
   ]
  },
  {
   "cell_type": "code",
   "execution_count": null,
   "id": "f81f54d8",
   "metadata": {},
   "outputs": [],
   "source": [
    "search_colour_button=driver.find_element_by_xpath('/html/body/div[2]/div/div[1]/main/div[3]/div[1]/section/div/div[6]/ul/li[1]/label/div')\n",
    "search_colour_button.click()"
   ]
  },
  {
   "cell_type": "code",
   "execution_count": null,
   "id": "770664ad",
   "metadata": {},
   "outputs": [],
   "source": [
    "Shoename=[]\n",
    "Shoedesc=[]\n",
    "Shoeprize=[]\n",
    "\n",
    "Search_Shoename=driver.find_elements_by_xpath('//h3[@class=\"product-brand\"]')\n",
    "for i in Search_Shoename:\n",
    "    Shoename.append(i.text)\n",
    "\n",
    "search_shoedesc=driver.find_elements_by_xpath('//h4[@class=\"product-product\"]')\n",
    "for i in search_shoedesc:\n",
    "    Shoedesc.append(i.text)\n",
    "search_prize=driver.find_elements_by_xpath('//div[@class=\"product-price\"]')\n",
    "for i in search_prize:\n",
    "    Shoeprize.append(i.text.split(','))\n",
    "Shoeprize\n",
    "\n",
    "Shoe_details=pd.DataFrame({})\n",
    "Shoe_details['Product']=Shoename\n",
    "Shoe_details['Product_dsc']=Shoedesc\n",
    "Shoe_details['Product_prize']=Shoeprize"
   ]
  },
  {
   "cell_type": "code",
   "execution_count": null,
   "id": "0dc1f2ef",
   "metadata": {},
   "outputs": [],
   "source": [
    "search_Nextbutton=driver.find_element_by_xpath('/html/body/div[2]/div/div[1]/main/div[3]/div[2]/div/div[2]/section/div[2]/ul/li[12]/a')\n",
    "search_Nextbutton.click()"
   ]
  },
  {
   "cell_type": "code",
   "execution_count": null,
   "id": "1561ed9a",
   "metadata": {},
   "outputs": [],
   "source": [
    "Shoename2=[]\n",
    "Shoedesc2=[]\n",
    "Shoeprize2=[]\n",
    "\n",
    "Search_Shoename2=driver.find_elements_by_xpath('//h3[@class=\"product-brand\"]')\n",
    "for i in Search_Shoename2:\n",
    "    Shoename2.append(i.text)\n",
    "\n",
    "search_shoedesc2=driver.find_elements_by_xpath('//h4[@class=\"product-product\"]')\n",
    "for i in search_shoedesc2:\n",
    "    Shoedesc2.append(i.text)\n",
    "search_prize2=driver.find_elements_by_xpath('//div[@class=\"product-price\"]')\n",
    "for i in search_prize2:\n",
    "    Shoeprize2.append(i.text.split(','))\n",
    "\n",
    "Shoe_details2=pd.DataFrame({})\n",
    "Shoe_details2['Product']=Shoename2\n",
    "Shoe_details2['Product_dsc']=Shoedesc2\n",
    "Shoe_details2['Product_prize']=Shoeprize2\n",
    "Shoe_detailsfull=pd.concat([Shoe_details,Shoe_details2])\n",
    "Shoe_detailsfull"
   ]
  },
  {
   "cell_type": "markdown",
   "id": "6af668ab",
   "metadata": {},
   "source": [
    "#8 Wescapping webpage https://www.amazon.in/Enter “Laptop”"
   ]
  },
  {
   "cell_type": "code",
   "execution_count": null,
   "id": "9f63c7a5",
   "metadata": {},
   "outputs": [],
   "source": [
    "driver=webdriver.Chrome(r'C:\\Users\\surendar.reddy\\Documents\\data Science projet_Data traine\\Web Scaping_Worksheet-2\\chromedriver_win32\\chromedriver.exe')\n",
    "url='https://www.amazon.in/'\n",
    "driver.get(url)"
   ]
  },
  {
   "cell_type": "code",
   "execution_count": null,
   "id": "030df7ec",
   "metadata": {},
   "outputs": [],
   "source": [
    "search_Laptop=driver.find_element_by_id(\"twotabsearchtextbox\")\n",
    "search_Laptop.send_keys(\"Laptop\")"
   ]
  },
  {
   "cell_type": "code",
   "execution_count": null,
   "id": "2d886369",
   "metadata": {},
   "outputs": [],
   "source": [
    "search_Laptop_button=driver.find_element_by_xpath('/html/body/div[1]/header/div/div[1]/div[2]/div/form/div[3]/div/span/input')\n",
    "search_Laptop_button.click()"
   ]
  },
  {
   "cell_type": "code",
   "execution_count": null,
   "id": "ffb9062b",
   "metadata": {},
   "outputs": [],
   "source": [
    "search_CPU_button=driver.find_element_by_xpath('/html/body/div[1]/div[2]/div[1]/div[2]/div/div[3]/span/div[1]/span/div/div/div[6]/div/div/div[1]/div/span[2]/a/span')\n",
    "search_CPU_button.click()"
   ]
  },
  {
   "cell_type": "code",
   "execution_count": null,
   "id": "21a23d86",
   "metadata": {},
   "outputs": [],
   "source": [
    "search_i7_button=driver.find_element_by_xpath('/html/body/div[1]/div[2]/div[1]/div[2]/div/div[3]/span/div[1]/span/div/div/div[6]/div/div/div[1]/div/span[1]/a[12]')\n",
    "search_i7_button.click()"
   ]
  },
  {
   "cell_type": "markdown",
   "id": "94094751",
   "metadata": {},
   "source": [
    "In this filter multiple Item cannot be checked!!"
   ]
  },
  {
   "cell_type": "code",
   "execution_count": null,
   "id": "55007483",
   "metadata": {},
   "outputs": [],
   "source": [
    "Laptop_Name=[]\n",
    "Search_Laptop_Name=driver.find_elements_by_xpath('//h2[@class=\"a-size-mini a-spacing-none a-color-base s-line-clamp-2\"]')\n",
    "for i in Search_Laptop_Name:\n",
    "    Laptop_Name.append(i.text)"
   ]
  },
  {
   "cell_type": "code",
   "execution_count": null,
   "id": "c706c345",
   "metadata": {},
   "outputs": [],
   "source": [
    "Laptop_Prize=[]\n",
    "Search_Laptop_Prize=driver.find_elements_by_xpath(\"//span[@class='a-price-whole']\")\n",
    "for i in Search_Laptop_Prize:\n",
    "    Laptop_Prize.append(i.text)"
   ]
  },
  {
   "cell_type": "code",
   "execution_count": null,
   "id": "cadfbcf2",
   "metadata": {},
   "outputs": [],
   "source": [
    "Laptop_Details=pd.DataFrame({})\n",
    "Laptop_Details['Laptop_Name']=Laptop_Name\n",
    "Laptop_Details['Laptop_Prize']=Laptop_Prize\n",
    "Laptop_Details[0:10]"
   ]
  },
  {
   "cell_type": "markdown",
   "id": "dd7bad61",
   "metadata": {},
   "source": [
    "Laptop_prize=[]\n",
    "Search_Laptop_prize=driver.find_elements_by_xpath(\"//a[@role='button']/descendant::i/span[i]\").get_attribute('textContent')\n",
    "#for i in Search_Laptop_prize:\n",
    "    #Laptop_prize.append(i.text)\n",
    "Laptop_prize\n",
    "#Search_Laptop_prize.get_attribute('textContent')\n",
    "#Search_Laptop_prize"
   ]
  },
  {
   "cell_type": "markdown",
   "id": "95b86fe1",
   "metadata": {},
   "source": [
    "#9 job results for Data Scientist Designation in Noida\n"
   ]
  },
  {
   "cell_type": "code",
   "execution_count": null,
   "id": "278afe18",
   "metadata": {},
   "outputs": [],
   "source": [
    "driver=webdriver.Chrome(r'C:\\Users\\surendar.reddy\\Documents\\data Science projet_Data traine\\Web Scaping_Worksheet-2\\chromedriver_win32\\chromedriver.exe')\n",
    "url='https://www.ambitionbox.com/'\n",
    "driver.get(url)"
   ]
  },
  {
   "cell_type": "code",
   "execution_count": null,
   "id": "10812e36",
   "metadata": {},
   "outputs": [],
   "source": [
    "search_Laptop_button=driver.find_element_by_xpath(\"//a[@class='link jobs']\")\n",
    "search_Laptop_button.click()"
   ]
  },
  {
   "cell_type": "code",
   "execution_count": null,
   "id": "7bf535a9",
   "metadata": {},
   "outputs": [],
   "source": [
    "//a[@title='Jobs']"
   ]
  },
  {
   "cell_type": "code",
   "execution_count": null,
   "id": "f923b14a",
   "metadata": {},
   "outputs": [],
   "source": [
    "search_desg=driver.find_element_by_xpath('/html/body/div/div/div/div[2]/div[1]/div/div/div/div/span/input')\n",
    "search_desg.send_keys(\"Data Scientist\")"
   ]
  },
  {
   "cell_type": "code",
   "execution_count": null,
   "id": "68bed181",
   "metadata": {},
   "outputs": [],
   "source": [
    "search_desg_search=driver.find_element_by_xpath('/html/body/div/div/div/div[2]/div[1]/div/div/div/button')\n",
    "search_desg_search.click()"
   ]
  },
  {
   "cell_type": "code",
   "execution_count": null,
   "id": "79ce44c3",
   "metadata": {},
   "outputs": [],
   "source": [
    "search_loc_dropdown=driver.find_element_by_xpath('/html/body/div/div/div/div[2]/div[2]/div[1]/div/div/div/div[2]/div[1]/i')\n",
    "search_loc_dropdown.click()"
   ]
  },
  {
   "cell_type": "code",
   "execution_count": null,
   "id": "e9b1838d",
   "metadata": {},
   "outputs": [],
   "source": [
    "search_loc_type=driver.find_element_by_xpath('/html/body/div/div/div/div[2]/div[2]/div[1]/div/div/div/div[2]/div[2]/div/div[2]/input')\n",
    "search_loc_type.send_keys(\"Noida\")"
   ]
  },
  {
   "cell_type": "code",
   "execution_count": null,
   "id": "7b7baa44",
   "metadata": {},
   "outputs": [],
   "source": [
    "search_loc_click=driver.find_element_by_xpath('/html/body/div/div/div/div[2]/div[2]/div[1]/div/div/div/div[2]/div[2]/div/div[3]/div[1]/div[1]/div/label')\n",
    "search_loc_click.click()"
   ]
  },
  {
   "cell_type": "code",
   "execution_count": null,
   "id": "2479b4ec",
   "metadata": {},
   "outputs": [],
   "source": [
    "Position_Name=[]\n",
    "Search_Position_Name=driver.find_elements_by_xpath(\"//a[@class='title noclick']\")\n",
    "for i in Search_Position_Name:\n",
    "    Position_Name.append(i.text)\n",
    "Position_Name=pd.DataFrame(Position_Name)\n",
    "Position_Name"
   ]
  },
  {
   "cell_type": "markdown",
   "id": "38796090",
   "metadata": {},
   "source": [
    "10 job results for Salary in Noida"
   ]
  },
  {
   "cell_type": "code",
   "execution_count": null,
   "id": "bf86ee51",
   "metadata": {},
   "outputs": [],
   "source": [
    "driver=webdriver.Chrome(r'C:\\Users\\surendar.reddy\\Documents\\data Science projet_Data traine\\Web Scaping_Worksheet-2\\chromedriver_win32\\chromedriver.exe')\n",
    "url='https://www.ambitionbox.com/'\n",
    "driver.get(url)"
   ]
  },
  {
   "cell_type": "code",
   "execution_count": null,
   "id": "42fbc5e7",
   "metadata": {},
   "outputs": [],
   "source": [
    "search_salary_button=driver.find_element_by_xpath('//a[@class=\"link salaries\"]')\n",
    "search_salary_button.click()"
   ]
  },
  {
   "cell_type": "code",
   "execution_count": null,
   "id": "c16d41ba",
   "metadata": {},
   "outputs": [],
   "source": [
    "search_desg=driver.find_element_by_id(\"jobProfileSearchbox\")\n",
    "search_desg.send_keys(\"Data Scientist\")"
   ]
  },
  {
   "cell_type": "code",
   "execution_count": null,
   "id": "cb35f553",
   "metadata": {
    "scrolled": true
   },
   "outputs": [],
   "source": [
    "search_button=driver.find_element_by_xpath('//p[@class=\"tt_text\"]')\n",
    "search_button.click()"
   ]
  },
  {
   "cell_type": "code",
   "execution_count": null,
   "id": "a1c3efe2",
   "metadata": {},
   "outputs": [],
   "source": [
    "Company_details=[]\n",
    "search_company=driver.find_elements_by_xpath('//div[@class=\"company-info\"]')\n",
    "for i in search_company:\n",
    "    Company_details.append(i.text.split('\\n'))\n",
    "#Position_Name=pd.DataFrame(Position_Name)\n",
    "df=pd.DataFrame(Company_details)\n",
    "Company_details_df=df[0:10]"
   ]
  },
  {
   "cell_type": "code",
   "execution_count": null,
   "id": "9351ad2a",
   "metadata": {},
   "outputs": [],
   "source": [
    "Salary_details=[]\n",
    "Salary_company=driver.find_elements_by_xpath('//div[@class=\"salary-values\"]')\n",
    "for i in Salary_company:\n",
    "    Salary_details.append(i.text.split('\\n'))\n",
    "#Position_Name=pd.DataFrame(Position_Name)\n",
    "df2=pd.DataFrame(Salary_details)\n",
    "Salary_details_df2=df2[0:10]"
   ]
  },
  {
   "cell_type": "code",
   "execution_count": null,
   "id": "21ce716c",
   "metadata": {},
   "outputs": [],
   "source": [
    "Salaryavg_details=[]\n",
    "Salaryavg_company=driver.find_elements_by_xpath('//p[@class=\"averageCtc\"]')\n",
    "for i in Salaryavg_company:\n",
    "    Salaryavg_details.append(i.text)\n",
    "df3=pd.DataFrame(Salaryavg_details)"
   ]
  },
  {
   "cell_type": "code",
   "execution_count": null,
   "id": "1f852e29",
   "metadata": {},
   "outputs": [],
   "source": [
    "Full_Details=pd.concat([Company_details_df,Salary_details_df2,df3],axis=1)\n",
    "Full_Details.columns=['Company','Number_of_Reviews','Job_Title','drop','Exp','Min_sal','Max_sal','avg_sal']\n",
    "Full_Details.drop('drop', inplace=True, axis=1)\n",
    "Full_Details"
   ]
  },
  {
   "cell_type": "code",
   "execution_count": null,
   "id": "e67987be",
   "metadata": {},
   "outputs": [],
   "source": []
  }
 ],
 "metadata": {
  "kernelspec": {
   "display_name": "Python 3 (ipykernel)",
   "language": "python",
   "name": "python3"
  },
  "language_info": {
   "codemirror_mode": {
    "name": "ipython",
    "version": 3
   },
   "file_extension": ".py",
   "mimetype": "text/x-python",
   "name": "python",
   "nbconvert_exporter": "python",
   "pygments_lexer": "ipython3",
   "version": "3.9.7"
  }
 },
 "nbformat": 4,
 "nbformat_minor": 5
}
